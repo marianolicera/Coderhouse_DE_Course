{
 "cells": [
  {
   "cell_type": "code",
   "execution_count": 7,
   "metadata": {},
   "outputs": [],
   "source": [
    "# Import necessary libraries\n",
    "import requests\n",
    "import pandas as pd\n",
    "from datetime import datetime\n",
    "from config import *\n",
    "from functions import *"
   ]
  },
  {
   "cell_type": "code",
   "execution_count": 8,
   "metadata": {},
   "outputs": [],
   "source": [
    "# Getting base URL from API Service and API KEY\n",
    "url = 'http://dataservice.accuweather.com/currentconditions/v1/topcities/150?apikey='\n",
    "api_key = api_key\n",
    "\n",
    "# Building full URL with API KEY\n",
    "full_url = url + api_key\n",
    "\n",
    "response = requests.get(full_url).json()\n",
    "\n",
    "# Initialize lists to store the data obtained from the API\n",
    "\n",
    "countries = []\n",
    "cities = []\n",
    "description = []\n",
    "temperature = []\n",
    "measure_date = []\n",
    "datetimes = []\n",
    "\n",
    "# Iterate over each element of the obtained JSON\n",
    "for data in response:\n",
    "    # Extract relevant data\n",
    "    country_name = data['Country']['LocalizedName']\n",
    "    city_name = data['LocalizedName']\n",
    "    weather_text = data['WeatherText']\n",
    "    temperature_C = data['Temperature']['Metric']['Value']\n",
    "    timestamp = data['LocalObservationDateTime']\n",
    "    datetime_insertion = datetime.now()\n",
    "\n",
    "    # Append data to lists\n",
    "    countries.append(country_name)\n",
    "    cities.append(city_name)\n",
    "    description.append(weather_text)\n",
    "    temperature.append(temperature_C)\n",
    "    measure_date.append(timestamp)\n",
    "\n",
    "    # Create DataFrame\n",
    "    df = pd.DataFrame({\n",
    "        \"Country Name\": countries,\n",
    "        \"City Name\": cities,\n",
    "        \"Description\":description,\n",
    "        \"Temperature (C)\": temperature,\n",
    "        \"Measure date\": measure_date,\n",
    "        \"Insertion date\": datetime_insertion\n",
    "    })"
   ]
  },
  {
   "cell_type": "code",
   "execution_count": 9,
   "metadata": {},
   "outputs": [
    {
     "name": "stdout",
     "output_type": "stream",
     "text": [
      "Connected to Redshift successfully!\n"
     ]
    }
   ],
   "source": [
    "# Create RedShift connection\n",
    "redshift_url = redshift_host\n",
    "redshift_database = redshift_database\n",
    "redshift_user = redshift_user\n",
    "redshift_pwd = redshift_pwd\n",
    "conn = connect_to_redshift(redshift_url, redshift_database, redshift_user, redshift_pwd)"
   ]
  },
  {
   "cell_type": "code",
   "execution_count": 10,
   "metadata": {},
   "outputs": [],
   "source": [
    "# Create table if not exist\n",
    "\n",
    "with conn.cursor() as cur:\n",
    "    cur.execute(\"\"\"\n",
    "        CREATE TABLE IF NOT EXISTS marianolicera3_coderhouse.weather\n",
    "        (\n",
    "            nombre_pais VARCHAR(255),\n",
    "            nombre_ciudad VARCHAR(255),\n",
    "            descripcion VARCHAR(50),\n",
    "            temperatura FLOAT,\n",
    "            fecha_medicion DATETIME,\n",
    "            fecha_insercion DATETIME \n",
    "        )\n",
    "    \"\"\")\n",
    "    conn.commit()"
   ]
  },
  {
   "cell_type": "code",
   "execution_count": 11,
   "metadata": {},
   "outputs": [],
   "source": [
    "# Insert data into RedShift table\n",
    "from psycopg2.extras import execute_values\n",
    "with conn.cursor() as cur:\n",
    "    execute_values(\n",
    "        cur,\n",
    "        '''\n",
    "        INSERT INTO weather (nombre_pais, nombre_ciudad, descripcion, temperatura, fecha_medicion, fecha_insercion)\n",
    "        VALUES %s\n",
    "        ''',\n",
    "        [tuple(row) for row in df.values],\n",
    "        page_size=len(df)\n",
    "    )\n",
    "    conn.commit()"
   ]
  }
 ],
 "metadata": {
  "kernelspec": {
   "display_name": "Python 3",
   "language": "python",
   "name": "python3"
  },
  "language_info": {
   "codemirror_mode": {
    "name": "ipython",
    "version": 3
   },
   "file_extension": ".py",
   "mimetype": "text/x-python",
   "name": "python",
   "nbconvert_exporter": "python",
   "pygments_lexer": "ipython3",
   "version": "3.9.2"
  }
 },
 "nbformat": 4,
 "nbformat_minor": 2
}
